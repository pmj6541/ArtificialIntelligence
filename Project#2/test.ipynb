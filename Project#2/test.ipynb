{
 "cells": [
  {
   "cell_type": "code",
   "execution_count": 61,
   "id": "cd16b1cc",
   "metadata": {},
   "outputs": [],
   "source": [
    "# Imports\n",
    "\n",
    "import torch\n",
    "import torchvision\n",
    "import torchvision.transforms as transforms\n",
    "\n",
    "import matplotlib.pyplot as plt\n",
    "import numpy as np"
   ]
  },
  {
   "cell_type": "code",
   "execution_count": 62,
   "id": "30eb172d",
   "metadata": {},
   "outputs": [
    {
     "name": "stdout",
     "output_type": "stream",
     "text": [
      "Files already downloaded and verified\n",
      "Files already downloaded and verified\n"
     ]
    }
   ],
   "source": [
    "# Dataset\n",
    "\n",
    "transform = transforms.Compose(\n",
    "    [transforms.ToTensor(),\n",
    "     transforms.Normalize((0.5, 0.5, 0.5), (0.5, 0.5, 0.5))])\n",
    "\n",
    "trainset = torchvision.datasets.CIFAR10(root=\"./data\", train=True, download=True, transform=transform)\n",
    "trainloader = torch.utils.data.DataLoader(trainset, batch_size=4, shuffle=True, num_workers=2)\n",
    "\n",
    "testset = torchvision.datasets.CIFAR10(root=\"./data\", train=False, download=True, transform=transform)\n",
    "testloader = torch.utils.data.DataLoader(testset, batch_size=4, shuffle=False, num_workers=2)\n",
    "\n",
    "classes = ('plane', 'car', 'bird', 'cat', 'deer', 'dog', 'frog', 'horse', 'ship', 'truck')"
   ]
  },
  {
   "cell_type": "code",
   "execution_count": 63,
   "id": "aa431848",
   "metadata": {
    "scrolled": true
   },
   "outputs": [
    {
     "name": "stdout",
     "output_type": "stream",
     "text": [
      "학습을 진행하는 기기 :  cuda:0\n"
     ]
    }
   ],
   "source": [
    "# Device Setup\n",
    "\n",
    "device = torch.device('cuda:0' if torch.cuda.is_available() else 'cpu')\n",
    "print(\"학습을 진행하는 기기 : \",device)"
   ]
  },
  {
   "cell_type": "code",
   "execution_count": 64,
   "id": "715b94c6",
   "metadata": {},
   "outputs": [
    {
     "name": "stdout",
     "output_type": "stream",
     "text": [
      "cuda index: 0\n",
      "gpu 개수: 1\n",
      "graphic name: NVIDIA GeForce RTX 3070 Ti\n",
      "cuda\n"
     ]
    }
   ],
   "source": [
    "print('cuda index:', torch.cuda.current_device())\n",
    "\n",
    "print('gpu 개수:', torch.cuda.device_count())\n",
    "\n",
    "print('graphic name:', torch.cuda.get_device_name())\n",
    "\n",
    "cuda = torch.device('cuda')\n",
    "\n",
    "print(cuda)"
   ]
  },
  {
   "cell_type": "code",
   "execution_count": 65,
   "id": "68b78088",
   "metadata": {},
   "outputs": [
    {
     "name": "stdout",
     "output_type": "stream",
     "text": [
      "True\n"
     ]
    }
   ],
   "source": [
    "print(torch.cuda.is_available())"
   ]
  },
  {
   "cell_type": "code",
   "execution_count": 122,
   "id": "c2e37569",
   "metadata": {},
   "outputs": [],
   "source": [
    "# Network Model\n",
    "\n",
    "import torch.nn as nn\n",
    "import torch.nn.functional as F\n",
    "\n",
    "class BasicNet(nn.Module):\n",
    "    def __init__(self):\n",
    "        super(BasicNet, self).__init__()\n",
    "        self.conv1 = nn.Sequential(\n",
    "            nn.Conv2d(3, 6, 5),\n",
    "            nn.ReLU(),\n",
    "            nn.MaxPool2d(2, 2)\n",
    "        )\n",
    "        self.conv2 = nn.Sequential(\n",
    "            nn.Conv2d(6, 16, 5),\n",
    "            nn.ReLU(),\n",
    "            nn.MaxPool2d(2, 2)\n",
    "        )\n",
    "    \n",
    "        \n",
    "        self.avgPool = nn.AvgPool2d(5)\n",
    "        self.classifier = nn.Linear(16, 10)\n",
    "        \n",
    "        \n",
    "        # self.conv1 = nn.Conv2d(3, 6, 5)\n",
    "        # self.pool = nn.MaxPool2d(2, 2)\n",
    "        # self.conv2 = nn.Conv2d(6, 16, 5)\n",
    "        # self.fc1 = nn.Linear(16 * 5 * 5, 120)\n",
    "        # self.fc2 = nn.Linear(120, 84)\n",
    "        # self.fc3 = nn.Linear(84, 10)\n",
    "        # self.avg_pool = nn.AvgPool2d(10)\n",
    "        # self.classifier = nn.Linear(16, 10)\n",
    "        \n",
    "    def forward(self, x):\n",
    "        x = self.conv1(x)\n",
    "        features = self.conv2(x)\n",
    "    \n",
    "        x = self.avgPool(features)\n",
    "        x = x.view(features.size(0), -1)\n",
    "        x = self.classifier(x)\n",
    "        \n",
    "        return x, features\n",
    "    \n",
    "net = BasicNet().to(device)"
   ]
  },
  {
   "cell_type": "code",
   "execution_count": 115,
   "id": "32b6f04a",
   "metadata": {},
   "outputs": [],
   "source": [
    "# New Network Model\n",
    "\n",
    "import torch.nn as nn\n",
    "import torch.nn.functional as F\n",
    "\n",
    "class LeNet_2(nn.Module):\n",
    "    def __init__(self):\n",
    "        super().__init__()\n",
    "        # 32px 이었다가, conv를 거치면서 절반으로 감소\n",
    "        self.conv1 = nn.Conv2d(3, 16, 3, 1, padding=1)\n",
    "        self.conv2 = nn.Conv2d(16, 32, 3, 1, padding=1)\n",
    "        self.conv3 = nn.Conv2d(32, 64, 3, 1, padding=1)\n",
    "        self.fc1 = nn.Linear(4*4*64, 500)\n",
    "        self.dropout1 = nn.Dropout(0.5)\n",
    "        self.fc2 = nn.Linear(500, 10)\n",
    "\n",
    "    def forward(self, x):\n",
    "        x = F.relu(self.conv1(x))\n",
    "        x = F.max_pool2d(x, 2, 2)\n",
    "        x = F.relu(self.conv2(x))\n",
    "        x = F.max_pool2d(x, 2, 2)\n",
    "        x = F.relu(self.conv3(x))\n",
    "        x = F.max_pool2d(x, 2, 2)\n",
    "        x = x.view(-1, 4*4*64)\n",
    "        x = F.relu(self.fc1(x))\n",
    "        x = self.dropout1(x)\n",
    "        x = self.fc2(x)\n",
    "        return x\n",
    "    \n",
    "net = LeNet_2().to(device)"
   ]
  },
  {
   "cell_type": "code",
   "execution_count": 116,
   "id": "a1b033b1",
   "metadata": {},
   "outputs": [],
   "source": [
    "# Loss and Optimizer\n",
    "\n",
    "import torch.optim as optim\n",
    "\n",
    "criterion = nn.CrossEntropyLoss()\n",
    "optimizer = optim.SGD(net.parameters(), lr=0.001, momentum=0.9)"
   ]
  },
  {
   "cell_type": "code",
   "execution_count": 117,
   "id": "ab79affb",
   "metadata": {},
   "outputs": [],
   "source": [
    "# Train the Model\n",
    "\n",
    "def train(e):\n",
    "    for epoch in range(e):\n",
    "        running_loss = 0.0\n",
    "        for i, data in enumerate(trainloader, 0):\n",
    "            inputs, labels = data\n",
    "            \n",
    "            inputs = inputs.to(device)\n",
    "            labels = labels.to(device)\n",
    "            \n",
    "            optimizer.zero_grad()\n",
    "            \n",
    "            outputs=net(inputs)[0]\n",
    "            loss = criterion(outputs, labels)\n",
    "            loss.item()\n",
    "            loss.backward()\n",
    "            optimizer.step()\n",
    "            \n",
    "            running_loss += loss.item()\n",
    "            \n",
    "            if i % 2000 == 1999:\n",
    "                print(\"[%d %5d] loss: %.3f\" % (epoch + 1, i+1, running_loss / 2000))\n",
    "                running_loss=0.0\n",
    "            \n",
    "    print(\"Finished Training\")"
   ]
  },
  {
   "cell_type": "code",
   "execution_count": 120,
   "id": "65f0bcc4",
   "metadata": {},
   "outputs": [],
   "source": [
    "# Test the Model\n",
    "\n",
    "def test():\n",
    "    correct = 0\n",
    "    total = 0\n",
    "    \n",
    "    with torch.no_grad():\n",
    "        for data in testloader:\n",
    "            images, labels = data\n",
    "            \n",
    "            images = images.to(device)\n",
    "            labels = labels.to(device)\n",
    "            \n",
    "            outputs = net(images)[0]\n",
    "            _, predicted = torch.max(outputs.data, 1)\n",
    "            total += labels.size(0)\n",
    "            correct += (predicted == labels).sum().item()\n",
    "            \n",
    "    print(\"Accuracy of the network on the 10,000 test images: %d %%\" %(100 * correct/total))"
   ]
  },
  {
   "cell_type": "code",
   "execution_count": 123,
   "id": "6e13948c",
   "metadata": {},
   "outputs": [
    {
     "name": "stdout",
     "output_type": "stream",
     "text": [
      "[1  2000] loss: 2.325\n",
      "[1  4000] loss: 2.324\n",
      "[1  6000] loss: 2.320\n",
      "[1  8000] loss: 2.322\n",
      "[1 10000] loss: 2.324\n",
      "[1 12000] loss: 2.324\n",
      "[2  2000] loss: 2.322\n",
      "[2  4000] loss: 2.325\n",
      "[2  6000] loss: 2.319\n",
      "[2  8000] loss: 2.325\n",
      "[2 10000] loss: 2.325\n",
      "[2 12000] loss: 2.322\n",
      "Finished Training\n"
     ]
    }
   ],
   "source": [
    "train(2)"
   ]
  },
  {
   "cell_type": "code",
   "execution_count": 124,
   "id": "68e10b6e",
   "metadata": {},
   "outputs": [],
   "source": [
    "torch.save(net.state_dict(), 'cifar.pkl')"
   ]
  },
  {
   "cell_type": "code",
   "execution_count": 125,
   "id": "d346dae6",
   "metadata": {},
   "outputs": [
    {
     "name": "stdout",
     "output_type": "stream",
     "text": [
      "Accuracy of the network on the 10,000 test images: 10 %\n"
     ]
    }
   ],
   "source": [
    "test()"
   ]
  },
  {
   "cell_type": "code",
   "execution_count": 126,
   "id": "4b08856e",
   "metadata": {},
   "outputs": [],
   "source": [
    "def imshow(img):\n",
    "    img = img / 2 + 0.5     # unnormalize\n",
    "    npimg = img.numpy()\n",
    "    plt.imshow(np.transpose(npimg, (1, 2, 0)))\n",
    "    plt.show()"
   ]
  },
  {
   "cell_type": "code",
   "execution_count": 94,
   "id": "f1141b53",
   "metadata": {},
   "outputs": [
    {
     "data": {
      "image/png": "[encoded data removed]",
      "text/plain": [
       "<Figure size 432x288 with 1 Axes>"
      ]
     },
     "metadata": {
      "needs_background": "light"
     },
     "output_type": "display_data"
    },
    {
     "name": "stdout",
     "output_type": "stream",
     "text": [
      "Ground Truth: cat ship ship plane \n",
      "Predicted: cat ship ship ship \n"
     ]
    }
   ],
   "source": [
    "dataiter = iter(testloader)\n",
    "\n",
    "images, labels = dataiter.next()\n",
    "\n",
    "imshow(torchvision.utils.make_grid(images))\n",
    "print(\"Ground Truth:\", \"\".join(\"%s \" % classes[labels[j]] for j in range(4)))\n",
    "\n",
    "outputs = net(images.to(device))[0]\n",
    "\n",
    "_, predicted = torch.max(outputs, 1)\n",
    "\n",
    "print(\"Predicted:\", \"\".join(\"%s \" % classes[predicted[j]] for j in range(4)))"
   ]
  },
  {
   "cell_type": "code",
   "execution_count": 95,
   "id": "f82ca201",
   "metadata": {},
   "outputs": [
    {
     "name": "stdout",
     "output_type": "stream",
     "text": [
      "torch.Size([6, 14, 14])\n",
      "torch.Size([32, 5, 5])\n"
     ]
    },
    {
     "data": {
      "image/png": "[encoded data removed]",
      "text/plain": [
       "<Figure size 360x360 with 6 Axes>"
      ]
     },
     "metadata": {
      "needs_background": "light"
     },
     "output_type": "display_data"
    },
    {
     "data": {
      "image/png": "[encoded data removed]",
      "text/plain": [
       "<Figure size 504x504 with 16 Axes>"
      ]
     },
     "metadata": {
      "needs_background": "light"
     },
     "output_type": "display_data"
    }
   ],
   "source": [
    "# Intermediate Feature Space\n",
    "\n",
    "activation = {}\n",
    "\n",
    "def get_activation(name):\n",
    "    def hook(model, input, output):\n",
    "        activation[name] = output.detach()\n",
    "    \n",
    "    return hook\n",
    "\n",
    "net.conv1.register_forward_hook(get_activation('conv1'))\n",
    "net.conv2.register_forward_hook(get_activation('conv2'))\n",
    "\n",
    "data, _ = testset[1]\n",
    "data.unsqueeze_(0)\n",
    "output = net(data.to(device))[0]\n",
    "\n",
    "\n",
    "act = activation['conv1'].squeeze()\n",
    "act2 = activation['conv2'].squeeze()\n",
    "\n",
    "print(act.shape)\n",
    "print(act2.shape)\n",
    "\n",
    "row, col = 2, 3\n",
    "\n",
    "fig, axarr = plt.subplots(row, col, figsize=(5, 5))\n",
    "\n",
    "for i in range(row):\n",
    "    for j in range(col):\n",
    "        axarr[i][j].imshow(act[i*col+j].cpu())\n",
    "        \n",
    "row, col = 4, 4\n",
    "        \n",
    "fig2, axarr2 = plt.subplots(row, col, figsize=(7, 7))\n",
    "for i in range(row):\n",
    "    for j in range(col):\n",
    "        axarr2[i][j].imshow(act2[i*col+j].cpu())"
   ]
  },
  {
   "cell_type": "code",
   "execution_count": 127,
   "id": "00d5770d",
   "metadata": {},
   "outputs": [
    {
     "name": "stdout",
     "output_type": "stream",
     "text": [
      "torch.Size([1, 16, 5, 5])\n"
     ]
    },
    {
     "data": {
      "image/png": "[encoded data removed]",
      "text/plain": [
       "<Figure size 432x288 with 1 Axes>"
      ]
     },
     "metadata": {
      "needs_background": "light"
     },
     "output_type": "display_data"
    }
   ],
   "source": [
    "# CAM\n",
    "image, label = testset[1]\n",
    "batch_img = image[None, :, :, :].to(device)\n",
    "\n",
    "x, map = net(batch_img)\n",
    "\n",
    "print(map.shape)\n",
    "\n",
    "class_weight = net.classifier.weight[int(label)].unsqueeze(-1).unsqueeze(-1)\n",
    "cam_ = torch.squeeze(map) * class_weight\n",
    "\n",
    "cam = torch.sum(cam_, axis=0)\n",
    "cam = cam.detach().cpu().numpy()\n",
    "\n",
    "plt.imshow(cam, cmap=\"cool\", interpolation=\"nearest\")\n",
    "plt.show()"
   ]
  },
  {
   "cell_type": "code",
   "execution_count": 97,
   "id": "9bc8c6db",
   "metadata": {},
   "outputs": [
    {
     "data": {
      "image/png": "[encoded data removed]",
      "text/plain": [
       "<Figure size 432x288 with 1 Axes>"
      ]
     },
     "metadata": {
      "needs_background": "light"
     },
     "output_type": "display_data"
    },
    {
     "data": {
      "image/png": "[encoded data removed]",
      "text/plain": [
       "<Figure size 432x288 with 1 Axes>"
      ]
     },
     "metadata": {
      "needs_background": "light"
     },
     "output_type": "display_data"
    },
    {
     "name": "stderr",
     "output_type": "stream",
     "text": [
      "Clipping input data to the valid range for imshow with RGB data ([0..1] for floats or [0..255] for integers).\n"
     ]
    },
    {
     "data": {
      "image/png": "[encoded data removed]",
      "text/plain": [
       "<Figure size 432x288 with 1 Axes>"
      ]
     },
     "metadata": {
      "needs_background": "light"
     },
     "output_type": "display_data"
    }
   ],
   "source": [
    "import cv2\n",
    "\n",
    "resize_cam = cv2.resize(cam, dsize=(32, 32), interpolation=cv2.INTER_CUBIC)\n",
    "plt.imshow(resize_cam, cmap=\"cool\", interpolation=\"nearest\")\n",
    "plt.show()\n",
    "\n",
    "imshow(image)\n",
    "\n",
    "origin = image.detach().numpy()\n",
    "\n",
    "plt.imshow(np.rollaxis(origin, 0, 3))\n",
    "plt.imshow(resize_cam, alpha=0.6, cmap=\"rainbow\")\n",
    "plt.show()"
   ]
  },
  {
   "cell_type": "code",
   "execution_count": null,
   "id": "33255e19",
   "metadata": {},
   "outputs": [],
   "source": []
  },
  {
   "cell_type": "code",
   "execution_count": null,
   "id": "11df27a5",
   "metadata": {},
   "outputs": [],
   "source": []
  }
 ],
 "metadata": {
  "kernelspec": {
   "display_name": "Python 3 (ipykernel)",
   "language": "python",
   "name": "python3"
  },
  "language_info": {
   "codemirror_mode": {
    "name": "ipython",
    "version": 3
   },
   "file_extension": ".py",
   "mimetype": "text/x-python",
   "name": "python",
   "nbconvert_exporter": "python",
   "pygments_lexer": "ipython3",
   "version": "3.9.12"
  }
 },
 "nbformat": 4,
 "nbformat_minor": 5
}
